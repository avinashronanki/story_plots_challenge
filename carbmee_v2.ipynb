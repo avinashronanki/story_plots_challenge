{
  "nbformat": 4,
  "nbformat_minor": 0,
  "metadata": {
    "colab": {
      "name": "carbmee.ipynb",
      "provenance": []
    },
    "kernelspec": {
      "name": "python3",
      "display_name": "Python 3"
    },
    "language_info": {
      "name": "python"
    },
    "widgets": {
      "application/vnd.jupyter.widget-state+json": {
        "cbed3756f01349269a10aa796811214b": {
          "model_module": "@jupyter-widgets/controls",
          "model_name": "HBoxModel",
          "model_module_version": "1.5.0",
          "state": {
            "_view_name": "HBoxView",
            "_dom_classes": [],
            "_model_name": "HBoxModel",
            "_view_module": "@jupyter-widgets/controls",
            "_model_module_version": "1.5.0",
            "_view_count": null,
            "_view_module_version": "1.5.0",
            "box_style": "",
            "layout": "IPY_MODEL_7b0144200b464958afeb6c031b9bba89",
            "_model_module": "@jupyter-widgets/controls",
            "children": [
              "IPY_MODEL_c6a17fb33c014ba6b7b13711ca89e938",
              "IPY_MODEL_5b9be4156b464fec975fc05962ee5984",
              "IPY_MODEL_3fea181dfca444e491dd987a8fde51c7"
            ]
          }
        },
        "7b0144200b464958afeb6c031b9bba89": {
          "model_module": "@jupyter-widgets/base",
          "model_name": "LayoutModel",
          "model_module_version": "1.2.0",
          "state": {
            "_view_name": "LayoutView",
            "grid_template_rows": null,
            "right": null,
            "justify_content": null,
            "_view_module": "@jupyter-widgets/base",
            "overflow": null,
            "_model_module_version": "1.2.0",
            "_view_count": null,
            "flex_flow": null,
            "width": null,
            "min_width": null,
            "border": null,
            "align_items": null,
            "bottom": null,
            "_model_module": "@jupyter-widgets/base",
            "top": null,
            "grid_column": null,
            "overflow_y": null,
            "overflow_x": null,
            "grid_auto_flow": null,
            "grid_area": null,
            "grid_template_columns": null,
            "flex": null,
            "_model_name": "LayoutModel",
            "justify_items": null,
            "grid_row": null,
            "max_height": null,
            "align_content": null,
            "visibility": null,
            "align_self": null,
            "height": null,
            "min_height": null,
            "padding": null,
            "grid_auto_rows": null,
            "grid_gap": null,
            "max_width": null,
            "order": null,
            "_view_module_version": "1.2.0",
            "grid_template_areas": null,
            "object_position": null,
            "object_fit": null,
            "grid_auto_columns": null,
            "margin": null,
            "display": null,
            "left": null
          }
        },
        "c6a17fb33c014ba6b7b13711ca89e938": {
          "model_module": "@jupyter-widgets/controls",
          "model_name": "HTMLModel",
          "model_module_version": "1.5.0",
          "state": {
            "_view_name": "HTMLView",
            "style": "IPY_MODEL_0b3eca3a2e9d4e0486199f7644d09f5f",
            "_dom_classes": [],
            "description": "",
            "_model_name": "HTMLModel",
            "placeholder": "​",
            "_view_module": "@jupyter-widgets/controls",
            "_model_module_version": "1.5.0",
            "value": "Downloading: 100%",
            "_view_count": null,
            "_view_module_version": "1.5.0",
            "description_tooltip": null,
            "_model_module": "@jupyter-widgets/controls",
            "layout": "IPY_MODEL_c343953df97b4405b7a27b3e98e67960"
          }
        },
        "5b9be4156b464fec975fc05962ee5984": {
          "model_module": "@jupyter-widgets/controls",
          "model_name": "FloatProgressModel",
          "model_module_version": "1.5.0",
          "state": {
            "_view_name": "ProgressView",
            "style": "IPY_MODEL_f7af808af0014bdb89f7f7dc20c3a68d",
            "_dom_classes": [],
            "description": "",
            "_model_name": "FloatProgressModel",
            "bar_style": "success",
            "max": 432176557,
            "_view_module": "@jupyter-widgets/controls",
            "_model_module_version": "1.5.0",
            "value": 432176557,
            "_view_count": null,
            "_view_module_version": "1.5.0",
            "orientation": "horizontal",
            "min": 0,
            "description_tooltip": null,
            "_model_module": "@jupyter-widgets/controls",
            "layout": "IPY_MODEL_f962480d35a04584a1d9e476a9befdc2"
          }
        },
        "3fea181dfca444e491dd987a8fde51c7": {
          "model_module": "@jupyter-widgets/controls",
          "model_name": "HTMLModel",
          "model_module_version": "1.5.0",
          "state": {
            "_view_name": "HTMLView",
            "style": "IPY_MODEL_c3453e50a33f479398ecd2b891a8d11d",
            "_dom_classes": [],
            "description": "",
            "_model_name": "HTMLModel",
            "placeholder": "​",
            "_view_module": "@jupyter-widgets/controls",
            "_model_module_version": "1.5.0",
            "value": " 432M/432M [00:10&lt;00:00, 41.1MB/s]",
            "_view_count": null,
            "_view_module_version": "1.5.0",
            "description_tooltip": null,
            "_model_module": "@jupyter-widgets/controls",
            "layout": "IPY_MODEL_346898cba74e42b78c276597051c0fae"
          }
        },
        "0b3eca3a2e9d4e0486199f7644d09f5f": {
          "model_module": "@jupyter-widgets/controls",
          "model_name": "DescriptionStyleModel",
          "model_module_version": "1.5.0",
          "state": {
            "_view_name": "StyleView",
            "_model_name": "DescriptionStyleModel",
            "description_width": "",
            "_view_module": "@jupyter-widgets/base",
            "_model_module_version": "1.5.0",
            "_view_count": null,
            "_view_module_version": "1.2.0",
            "_model_module": "@jupyter-widgets/controls"
          }
        },
        "c343953df97b4405b7a27b3e98e67960": {
          "model_module": "@jupyter-widgets/base",
          "model_name": "LayoutModel",
          "model_module_version": "1.2.0",
          "state": {
            "_view_name": "LayoutView",
            "grid_template_rows": null,
            "right": null,
            "justify_content": null,
            "_view_module": "@jupyter-widgets/base",
            "overflow": null,
            "_model_module_version": "1.2.0",
            "_view_count": null,
            "flex_flow": null,
            "width": null,
            "min_width": null,
            "border": null,
            "align_items": null,
            "bottom": null,
            "_model_module": "@jupyter-widgets/base",
            "top": null,
            "grid_column": null,
            "overflow_y": null,
            "overflow_x": null,
            "grid_auto_flow": null,
            "grid_area": null,
            "grid_template_columns": null,
            "flex": null,
            "_model_name": "LayoutModel",
            "justify_items": null,
            "grid_row": null,
            "max_height": null,
            "align_content": null,
            "visibility": null,
            "align_self": null,
            "height": null,
            "min_height": null,
            "padding": null,
            "grid_auto_rows": null,
            "grid_gap": null,
            "max_width": null,
            "order": null,
            "_view_module_version": "1.2.0",
            "grid_template_areas": null,
            "object_position": null,
            "object_fit": null,
            "grid_auto_columns": null,
            "margin": null,
            "display": null,
            "left": null
          }
        },
        "f7af808af0014bdb89f7f7dc20c3a68d": {
          "model_module": "@jupyter-widgets/controls",
          "model_name": "ProgressStyleModel",
          "model_module_version": "1.5.0",
          "state": {
            "_view_name": "StyleView",
            "_model_name": "ProgressStyleModel",
            "description_width": "",
            "_view_module": "@jupyter-widgets/base",
            "_model_module_version": "1.5.0",
            "_view_count": null,
            "_view_module_version": "1.2.0",
            "bar_color": null,
            "_model_module": "@jupyter-widgets/controls"
          }
        },
        "f962480d35a04584a1d9e476a9befdc2": {
          "model_module": "@jupyter-widgets/base",
          "model_name": "LayoutModel",
          "model_module_version": "1.2.0",
          "state": {
            "_view_name": "LayoutView",
            "grid_template_rows": null,
            "right": null,
            "justify_content": null,
            "_view_module": "@jupyter-widgets/base",
            "overflow": null,
            "_model_module_version": "1.2.0",
            "_view_count": null,
            "flex_flow": null,
            "width": null,
            "min_width": null,
            "border": null,
            "align_items": null,
            "bottom": null,
            "_model_module": "@jupyter-widgets/base",
            "top": null,
            "grid_column": null,
            "overflow_y": null,
            "overflow_x": null,
            "grid_auto_flow": null,
            "grid_area": null,
            "grid_template_columns": null,
            "flex": null,
            "_model_name": "LayoutModel",
            "justify_items": null,
            "grid_row": null,
            "max_height": null,
            "align_content": null,
            "visibility": null,
            "align_self": null,
            "height": null,
            "min_height": null,
            "padding": null,
            "grid_auto_rows": null,
            "grid_gap": null,
            "max_width": null,
            "order": null,
            "_view_module_version": "1.2.0",
            "grid_template_areas": null,
            "object_position": null,
            "object_fit": null,
            "grid_auto_columns": null,
            "margin": null,
            "display": null,
            "left": null
          }
        },
        "c3453e50a33f479398ecd2b891a8d11d": {
          "model_module": "@jupyter-widgets/controls",
          "model_name": "DescriptionStyleModel",
          "model_module_version": "1.5.0",
          "state": {
            "_view_name": "StyleView",
            "_model_name": "DescriptionStyleModel",
            "description_width": "",
            "_view_module": "@jupyter-widgets/base",
            "_model_module_version": "1.5.0",
            "_view_count": null,
            "_view_module_version": "1.2.0",
            "_model_module": "@jupyter-widgets/controls"
          }
        },
        "346898cba74e42b78c276597051c0fae": {
          "model_module": "@jupyter-widgets/base",
          "model_name": "LayoutModel",
          "model_module_version": "1.2.0",
          "state": {
            "_view_name": "LayoutView",
            "grid_template_rows": null,
            "right": null,
            "justify_content": null,
            "_view_module": "@jupyter-widgets/base",
            "overflow": null,
            "_model_module_version": "1.2.0",
            "_view_count": null,
            "flex_flow": null,
            "width": null,
            "min_width": null,
            "border": null,
            "align_items": null,
            "bottom": null,
            "_model_module": "@jupyter-widgets/base",
            "top": null,
            "grid_column": null,
            "overflow_y": null,
            "overflow_x": null,
            "grid_auto_flow": null,
            "grid_area": null,
            "grid_template_columns": null,
            "flex": null,
            "_model_name": "LayoutModel",
            "justify_items": null,
            "grid_row": null,
            "max_height": null,
            "align_content": null,
            "visibility": null,
            "align_self": null,
            "height": null,
            "min_height": null,
            "padding": null,
            "grid_auto_rows": null,
            "grid_gap": null,
            "max_width": null,
            "order": null,
            "_view_module_version": "1.2.0",
            "grid_template_areas": null,
            "object_position": null,
            "object_fit": null,
            "grid_auto_columns": null,
            "margin": null,
            "display": null,
            "left": null
          }
        }
      }
    }
  },
  "cells": [
    {
      "cell_type": "markdown",
      "metadata": {
        "id": "bmumHCwLKGVF"
      },
      "source": [
        "# Note:\n",
        "\n",
        "The below approaches are performed on 15 stories for demonstration purposes. Please note that this is scalable to the entire dataset as well. Full analysis is omitted due to computational limitations."
      ]
    },
    {
      "cell_type": "markdown",
      "metadata": {
        "id": "dQTTN17fkzYV"
      },
      "source": [
        "# Approach 1\n",
        "1. Create a list of the top ten proper nouns from each story.\n",
        "2. To identify the people on the list, see if any of these terms are followed by a verb (40 percent).\n",
        "(It's most likely a person)\n",
        "3. Words that are not followed by a verb at least 40% of the time are removed."
      ]
    },
    {
      "cell_type": "code",
      "metadata": {
        "id": "xPi0uKpmdOAH",
        "colab": {
          "base_uri": "https://localhost:8080/"
        },
        "outputId": "f1979e8a-c596-4fdf-e63d-c56bfecab22e"
      },
      "source": [
        "#run this cell only for colab\n",
        "from google.colab import drive\n",
        "drive.mount('/content/drive')\n",
        "!cp /content/drive/MyDrive/plots ./plots\n",
        "!cp /content/drive/MyDrive/titles ./titles\n"
      ],
      "execution_count": 1,
      "outputs": [
        {
          "output_type": "stream",
          "name": "stdout",
          "text": [
            "Mounted at /content/drive\n"
          ]
        }
      ]
    },
    {
      "cell_type": "code",
      "metadata": {
        "id": "_0VqC-18o8E0",
        "colab": {
          "base_uri": "https://localhost:8080/"
        },
        "outputId": "a87876d1-4951-4f6d-8d1b-a81da427f43f"
      },
      "source": [
        "!pip install TextBlob\n",
        "!python -m textblob.download_corpora"
      ],
      "execution_count": 2,
      "outputs": [
        {
          "output_type": "stream",
          "name": "stdout",
          "text": [
            "Requirement already satisfied: TextBlob in /usr/local/lib/python3.7/dist-packages (0.15.3)\n",
            "Requirement already satisfied: nltk>=3.1 in /usr/local/lib/python3.7/dist-packages (from TextBlob) (3.2.5)\n",
            "Requirement already satisfied: six in /usr/local/lib/python3.7/dist-packages (from nltk>=3.1->TextBlob) (1.15.0)\n",
            "[nltk_data] Downloading package brown to /root/nltk_data...\n",
            "[nltk_data]   Unzipping corpora/brown.zip.\n",
            "[nltk_data] Downloading package punkt to /root/nltk_data...\n",
            "[nltk_data]   Unzipping tokenizers/punkt.zip.\n",
            "[nltk_data] Downloading package wordnet to /root/nltk_data...\n",
            "[nltk_data]   Unzipping corpora/wordnet.zip.\n",
            "[nltk_data] Downloading package averaged_perceptron_tagger to\n",
            "[nltk_data]     /root/nltk_data...\n",
            "[nltk_data]   Unzipping taggers/averaged_perceptron_tagger.zip.\n",
            "[nltk_data] Downloading package conll2000 to /root/nltk_data...\n",
            "[nltk_data]   Unzipping corpora/conll2000.zip.\n",
            "[nltk_data] Downloading package movie_reviews to /root/nltk_data...\n",
            "[nltk_data]   Unzipping corpora/movie_reviews.zip.\n",
            "Finished.\n"
          ]
        }
      ]
    },
    {
      "cell_type": "code",
      "metadata": {
        "id": "ogPQGetuqxnH"
      },
      "source": [
        "# first 10 stories\n",
        "stories = []\n",
        "story = \"\"\n",
        "with open('plots') as f:\n",
        "    for line in f:\n",
        "        if len(stories) == 16:\n",
        "            break\n",
        "        if '<EOS>' in line:\n",
        "          stories.append(story)\n",
        "          story = \"\"\n",
        "        else:\n",
        "          story = story + line\n",
        "stories = [story.replace(\"\\n\", \" \") for story in stories]\n",
        "stories = [story.replace(\"\\\\\", \"\") for story in stories]"
      ],
      "execution_count": 15,
      "outputs": []
    },
    {
      "cell_type": "code",
      "metadata": {
        "id": "0XDsDLabxMi6"
      },
      "source": [
        "with open('titles') as titles_file:\n",
        "  titles = titles_file.readlines()\n",
        "titles = [title.replace(\"\\n\", \"\") for title in titles]"
      ],
      "execution_count": 16,
      "outputs": []
    },
    {
      "cell_type": "code",
      "metadata": {
        "colab": {
          "base_uri": "https://localhost:8080/"
        },
        "id": "TJPwyb_4kvfe",
        "outputId": "e5cfbe3b-9729-4407-9e41-5a000124ad4e"
      },
      "source": [
        "import string\n",
        "from textblob import TextBlob\n",
        "import nltk\n",
        "nltk.download('averaged_perceptron_tagger')\n",
        "nltk.download('brown')\n",
        "nltk.download('punkt')\n",
        "\n",
        "#clean up\n",
        "# clearingSymbols = '!\"#$%&\\'()*+,-./:;<=>?@[\\\\]^_`{|}~’‘'\n",
        "# for c in clearingSymbols:\n",
        "#     text = text.replace(c, '')\n",
        "\n",
        "for index, story in enumerate(stories):\n",
        "    blob = TextBlob(story)\n",
        "\n",
        "    verbs = ['VB', 'VBD', 'VBG', 'VBN', 'VBP', 'VBZ']\n",
        "    a = blob.tags  #pos tagging\n",
        "\n",
        "    # retruns the top 10 propernouns \n",
        "    def prn(plotblob):\n",
        "        d = plotblob.np_counts # noun counter \n",
        "        d = dict(d)\n",
        "        top = sorted(d, key=d.get, reverse=True)\n",
        "        return top[0:10]\n",
        "\n",
        "    dictionary = blob.np_counts\n",
        "    # checks if the noun followed by verb 50% of the time \n",
        "    for word in prn(blob):\n",
        "        count = 0\n",
        "        for i in range(0, len(a)-1):\n",
        "            if a[i][0] == word or a[i][0] == word.title():\n",
        "                if a[i+1][1] in verbs:\n",
        "                    count = count + 1\n",
        "        if count / dictionary[word] > 0.4:\n",
        "            protaganist = word \n",
        "            print(\"The protagonist of the story \" + titles[index] + \" is :-\" + protaganist) \n",
        "            break\n"
      ],
      "execution_count": 17,
      "outputs": [
        {
          "output_type": "stream",
          "name": "stdout",
          "text": [
            "[nltk_data] Downloading package averaged_perceptron_tagger to\n",
            "[nltk_data]     /root/nltk_data...\n",
            "[nltk_data]   Package averaged_perceptron_tagger is already up-to-\n",
            "[nltk_data]       date!\n",
            "[nltk_data] Downloading package brown to /root/nltk_data...\n",
            "[nltk_data]   Package brown is already up-to-date!\n",
            "[nltk_data] Downloading package punkt to /root/nltk_data...\n",
            "[nltk_data]   Package punkt is already up-to-date!\n",
            "The protagonist of the story Animal Farm is :-napoleon\n",
            "The protagonist of the story A Clockwork Orange (novel) is :-alex\n",
            "The protagonist of the story The Plague is :-tarrou\n",
            "The protagonist of the story Actaeon is :-actaeon\n",
            "The protagonist of the story A Fire Upon the Deep is :-johanna\n",
            "The protagonist of the story Anyone Can Whistle is :-fay\n",
            "The protagonist of the story A Funny Thing Happened on the Way to the Forum is :-senex\n",
            "The protagonist of the story Army of Darkness is :-ash\n",
            "The protagonist of the story The Birth of a Nation is :-cameron\n",
            "The protagonist of the story Blade Runner is :-deckard\n",
            "The protagonist of the story Blazing Saddles is :-bart\n",
            "The protagonist of the story Blue Velvet (film) is :-jeffrey\n",
            "The protagonist of the story Barry Lyndon is :-barry\n",
            "The protagonist of the story Buffy the Vampire Slayer (film) is :-buffy\n"
          ]
        }
      ]
    },
    {
      "cell_type": "markdown",
      "metadata": {
        "id": "Fd3LIV3_YRhl"
      },
      "source": [
        "# Limitation\n",
        "This approach is not ideal because it appears to be failing in some edge cases. As an example, **\"Apple purchased Mitsubishi stock, and Apple fans are overjoyed.\"** Apple is considered a noun here, which is correct, but in the context of the sentence, Apple is an organization. As a result, I have discarded this approach."
      ]
    },
    {
      "cell_type": "code",
      "metadata": {
        "id": "P0xLiVepzH4K",
        "outputId": "da8f2121-12a3-4945-ec51-2bc988f73a13",
        "colab": {
          "base_uri": "https://localhost:8080/",
          "height": 137
        }
      },
      "source": [
        "stories[10]"
      ],
      "execution_count": 11,
      "outputs": [
        {
          "output_type": "execute_result",
          "data": {
            "application/vnd.google.colaboratory.intrinsic+json": {
              "type": "string"
            },
            "text/plain": [
              "'In Los Angeles in November 2019, ex-police officer Rick Deckard is detained by officer Gaff and brought to his former supervisor, Bryant.Deckard, whose job as a \"Blade Runner\" was to track down bioengineered beings known as replicants and \"retire\" (a euphemism for killing) them, is informed that four have come to Earth illegally.As Tyrell Corporation Nexus-6 models, they have only a four-year lifespan and may have come to Earth to try to extend their lives.Deckard watches a video of a Blade Runner named Holden administering the \"Voight-Kampff\" test designed to distinguish replicants from humans based on their emotional response to questions.The test subject, Leon, shoots Holden after Holden asks about Leon\\'s mother.Bryant wants Deckard to retire Leon and the other three replicants: Roy Batty, Zhora, and Pris.Deckard initially refuses, but after Bryant ambiguously threatens him, he reluctantly agrees.Deckard begins his investigation at the Tyrell Corporation to ensure that the test works on Nexus-6 models.While there, he discovers that dr Eldon Tyrell\\'s assistant Rachael is an experimental replicant who believes herself to be human.Rachael has been given false memories to provide an \"emotional cushion\".As a result, a more extensive test is required to determine whether she is a replicant.Events are then set into motion that pit Deckard\\'s search for the replicants against their search for Tyrell to force him to extend their lives.Roy and Leon investigate a replicant eye-manufacturing laboratory and learn of Sebastian, a gifted genetic designer who works closely with Tyrell.Rachael visits Deckard at his apartment to prove her humanity by showing him a family photo, but after Deckard reveals that her memories are implants from Tyrell\\'s niece, she leaves his apartment in tears.Meanwhile, Pris locates Sebastian and manipulates him to gain his trust.While searching Leon\\'s hotel room, Deckard finds a photo of Zhora and a synthetic snake scale that leads him to a strip club where Zhora works.Deckard kills Zhora and shortly after is told by Bryant to also retire Rachael, who has disappeared from the Tyrell Corporation.After Deckard spots Rachael in a crowd, he is attacked by Leon, but Rachael kills Leon using Deckard\\'s dropped pistol.The two return to Deckard\\'s apartment, and during an intimate discussion, he promises not to hunt her; as she abruptly tries to leave, Deckard physically restrains her, forcing her to kiss him.Arriving at Sebastian\\'s apartment, Roy tells Pris the others are dead.Sympathetic to their plight, Sebastian reveals that because of \"Methuselah Syndrome\", a genetic premature aging disorder, his life will also be cut short.Sebastian and Roy gain entrance into Tyrell\\'s secure penthouse, where Roy demands more life from his maker.Tyrell tells him that it is impossible.Roy confesses that he has done \"questionable things\" which Tyrell dismisses, praising Roy\\'s advanced design and accomplishments in his short life.Roy kisses Tyrell, then kills him.Sebastian runs for the elevator followed by Roy, who then rides the elevator down alone.Though not shown, it is implied by Bryant via police radio that Roy also kills Sebastian.Upon entering Sebastian\\'s apartment, Deckard is ambushed by Pris, but he manages to kill her just as Roy returns.As Roy starts to die, he chases Deckard through the building, ending up on the roof.Deckard tries to jump to an adjacent roof, but misses and is left hanging precariously between buildings.Roy makes the jump with ease, and as Deckard\\'s grip loosens, Roy hoists him onto the roof, saving him.As Roy\\'s life runs out, he delivers a monologue about how his memories \"will be lost in time, like tears in rain\"; Roy dies in front of Deckard, who watches silently.Gaff arrives and shouts across to Deckard, \"It\\'s too bad she won\\'t live, but then again, who does.\" Deckard returns to his apartment and finds the door ajar, but Rachael is safe, asleep in his bed.As they leave, Deckard notices a small tin-foil origami unicorn on the floor, a familiar calling card that brings back to him Gaff\\'s final words.Deckard and Rachael quickly leave the apartment block.'"
            ]
          },
          "metadata": {},
          "execution_count": 11
        }
      ]
    },
    {
      "cell_type": "markdown",
      "metadata": {
        "id": "SSD1tKUV58b0"
      },
      "source": [
        "# Approach 2\n",
        "\n",
        "This the prefered approach. It consists of: \n",
        "1. **NLTK NER classifer**, which contains a person classifier as well \n",
        "2. The protaganist is extracted by calculating the **frequency of the person occurences** in each story.\n",
        "3. **Coreference Resolution** is performed for enriching the frequency information and also to identfy the gender of the protaganist \n",
        "4. Finally, in the case where coreference resolution fails in gender identification, a **naive bayes classifer** trained on gender name data is employed to classify the protaganist gender."
      ]
    },
    {
      "cell_type": "code",
      "metadata": {
        "id": "5rSkC0Co6FXs"
      },
      "source": [
        "!pip install flair\n",
        "!pip install torch==1.9.0\n",
        "!pip install allennlp==2.1.0 allennlp-models==2.1.0\n",
        "!pip install transformers==4.1.1\n"
      ],
      "execution_count": null,
      "outputs": []
    },
    {
      "cell_type": "code",
      "metadata": {
        "id": "LoBo4CGxDdMw",
        "colab": {
          "base_uri": "https://localhost:8080/"
        },
        "outputId": "0dbca771-9f73-46ba-be19-53c8d10bfb66"
      },
      "source": [
        "import nltk\n",
        "from nltk import pos_tag, word_tokenize\n",
        "from nltk.tokenize import sent_tokenize\n",
        "from nltk.corpus import stopwords\n",
        "from tqdm import tqdm\n",
        "import re\n",
        "import string\n",
        "from itertools import combinations\n",
        "from collections import Counter\n",
        "from flair.models import SequenceTagger\n",
        "from flair.data import Sentence\n",
        "from nltk.corpus import names\n",
        "from nltk import NaiveBayesClassifier as NBC\n",
        "from nltk import classify\n",
        "import random\n",
        "nltk.download('stopwords')\n",
        "nltk.download('punkt')\n",
        "nltk.download('gutenberg')\n",
        "nltk.download('names')\n"
      ],
      "execution_count": 18,
      "outputs": [
        {
          "output_type": "stream",
          "name": "stdout",
          "text": [
            "[nltk_data] Downloading package stopwords to /root/nltk_data...\n",
            "[nltk_data]   Unzipping corpora/stopwords.zip.\n",
            "[nltk_data] Downloading package punkt to /root/nltk_data...\n",
            "[nltk_data]   Package punkt is already up-to-date!\n",
            "[nltk_data] Downloading package gutenberg to /root/nltk_data...\n",
            "[nltk_data]   Unzipping corpora/gutenberg.zip.\n",
            "[nltk_data] Downloading package names to /root/nltk_data...\n",
            "[nltk_data]   Unzipping corpora/names.zip.\n"
          ]
        },
        {
          "output_type": "execute_result",
          "data": {
            "text/plain": [
              "True"
            ]
          },
          "metadata": {},
          "execution_count": 18
        }
      ]
    },
    {
      "cell_type": "code",
      "metadata": {
        "id": "meiW9j_VCnrs"
      },
      "source": [
        "#training gender classifier \n",
        "\n",
        "def gender_features(word):\n",
        "    return {'last_letter': word[-1]}\n",
        "\n",
        "\n",
        "maleNames = [(name, 'male') for name in names.words('male.txt')]\n",
        "femaleNames = [(name, 'female') for name in names.words('female.txt')]\n",
        "allNames = maleNames + femaleNames\n",
        "random.shuffle(allNames)\n",
        "featureData = [(gender_features(namelist), gender)for (namelist, gender) in allNames]\n",
        "test_data = featureData[:800]\n",
        "train_data = featureData[800:]\n",
        "classifier = NBC.train(train_data)"
      ],
      "execution_count": 19,
      "outputs": []
    },
    {
      "cell_type": "code",
      "metadata": {
        "id": "whDizFPPlq_X",
        "colab": {
          "base_uri": "https://localhost:8080/",
          "height": 171,
          "referenced_widgets": [
            "cbed3756f01349269a10aa796811214b",
            "7b0144200b464958afeb6c031b9bba89",
            "c6a17fb33c014ba6b7b13711ca89e938",
            "5b9be4156b464fec975fc05962ee5984",
            "3fea181dfca444e491dd987a8fde51c7",
            "0b3eca3a2e9d4e0486199f7644d09f5f",
            "c343953df97b4405b7a27b3e98e67960",
            "f7af808af0014bdb89f7f7dc20c3a68d",
            "f962480d35a04584a1d9e476a9befdc2",
            "c3453e50a33f479398ecd2b891a8d11d",
            "346898cba74e42b78c276597051c0fae"
          ]
        },
        "outputId": "db317086-b2e3-4e98-d67a-665dd9151a22"
      },
      "source": [
        "# Use flair named entity recognition\n",
        "tagger = SequenceTagger.load('ner')"
      ],
      "execution_count": 20,
      "outputs": [
        {
          "output_type": "stream",
          "name": "stdout",
          "text": [
            "2021-10-13 18:15:41,838 --------------------------------------------------------------------------------\n",
            "2021-10-13 18:15:41,840 The model key 'ner' now maps to 'https://huggingface.co/flair/ner-english' on the HuggingFace ModelHub\n",
            "2021-10-13 18:15:41,842  - The most current version of the model is automatically downloaded from there.\n",
            "2021-10-13 18:15:41,843  - (you can alternatively manually download the original model at https://nlp.informatik.hu-berlin.de/resources/models/ner/en-ner-conll03-v0.4.pt)\n",
            "2021-10-13 18:15:41,844 --------------------------------------------------------------------------------\n"
          ]
        },
        {
          "output_type": "display_data",
          "data": {
            "application/vnd.jupyter.widget-view+json": {
              "model_id": "cbed3756f01349269a10aa796811214b",
              "version_minor": 0,
              "version_major": 2
            },
            "text/plain": [
              "Downloading:   0%|          | 0.00/432M [00:00<?, ?B/s]"
            ]
          },
          "metadata": {}
        },
        {
          "output_type": "stream",
          "name": "stdout",
          "text": [
            "2021-10-13 18:15:53,337 loading file /root/.flair/models/ner-english/4f4cdab26f24cb98b732b389e6cebc646c36f54cfd6e0b7d3b90b25656e4262f.8baa8ae8795f4df80b28e7f7b61d788ecbb057d1dc85aacb316f1bd02837a4a4\n"
          ]
        }
      ]
    },
    {
      "cell_type": "code",
      "metadata": {
        "id": "90ZvseI2fG9g",
        "colab": {
          "base_uri": "https://localhost:8080/"
        },
        "outputId": "783f3a4f-bfc4-41d4-b7bf-eefea9ed5a41"
      },
      "source": [
        "#extracting all the persons \n",
        "all_story_names = []\n",
        "for s in stories:\n",
        "  names = []\n",
        "  sent = nltk.tokenize.sent_tokenize(s)\n",
        "  # Get all the names of entities tagged as people\n",
        "  for line in tqdm(sent):\n",
        "    sentence = Sentence(line)\n",
        "    tagger.predict(sentence)\n",
        "    for entity in sentence.to_dict(tag_type='ner')['entities']:\n",
        "      if entity['labels'][0].value == 'PER':\n",
        "        names.append(entity['text'])\n",
        "  all_story_names.append(names)"
      ],
      "execution_count": 21,
      "outputs": [
        {
          "output_type": "stream",
          "name": "stderr",
          "text": [
            "100%|██████████| 38/38 [01:10<00:00,  1.84s/it]\n",
            "100%|██████████| 44/44 [01:30<00:00,  2.05s/it]\n",
            "100%|██████████| 63/63 [01:36<00:00,  1.53s/it]\n",
            "100%|██████████| 21/21 [00:48<00:00,  2.33s/it]\n",
            "100%|██████████| 24/24 [00:53<00:00,  2.24s/it]\n",
            "100%|██████████| 46/46 [01:12<00:00,  1.57s/it]\n",
            "100%|██████████| 69/69 [01:46<00:00,  1.55s/it]\n",
            "100%|██████████| 40/40 [01:23<00:00,  2.08s/it]\n",
            "100%|██████████| 27/27 [00:48<00:00,  1.79s/it]\n",
            "100%|██████████| 56/56 [01:22<00:00,  1.47s/it]\n",
            "100%|██████████| 36/36 [01:00<00:00,  1.67s/it]\n",
            "100%|██████████| 21/21 [00:47<00:00,  2.27s/it]\n",
            "100%|██████████| 49/49 [01:27<00:00,  1.79s/it]\n",
            "100%|██████████| 12/12 [00:24<00:00,  2.06s/it]\n",
            "100%|██████████| 61/61 [01:58<00:00,  1.94s/it]\n",
            "100%|██████████| 35/35 [01:02<00:00,  1.78s/it]\n"
          ]
        }
      ]
    },
    {
      "cell_type": "code",
      "metadata": {
        "id": "ZAKUXYp6z2-t"
      },
      "source": [
        "all_story_names[0]"
      ],
      "execution_count": null,
      "outputs": []
    },
    {
      "cell_type": "code",
      "metadata": {
        "id": "AdwbE2bCjDVE"
      },
      "source": [
        "# Remove any punctuation within the names\n",
        "\n",
        "protagonists = []\n",
        "\n",
        "for story_names in all_story_names:\n",
        "  names = []\n",
        "  for name in story_names:\n",
        "    names.append(name.translate(str.maketrans('', '', string.punctuation)))\n",
        "  \n",
        "  result = [item for items, c in Counter(story_names).most_common()\n",
        "                                        for item in [items] * c]\n",
        "  #extracting the protagonist by calculating the frequency\n",
        "  protagonist =  Counter(names).most_common()[0][0]\n",
        "  protagonists.append(protagonist)\n",
        "  # print(Counter(names).most_common()) \n",
        "\n"
      ],
      "execution_count": 23,
      "outputs": []
    },
    {
      "cell_type": "code",
      "metadata": {
        "colab": {
          "base_uri": "https://localhost:8080/"
        },
        "id": "7qcfMQkp80G5",
        "outputId": "0684ff1b-8bc0-41eb-e16b-c8ec1a6a1026"
      },
      "source": [
        "protagonists"
      ],
      "execution_count": 24,
      "outputs": [
        {
          "output_type": "execute_result",
          "data": {
            "text/plain": [
              "['Napoleon',\n",
              " 'Alex',\n",
              " 'Rieux',\n",
              " 'Artemis',\n",
              " 'Pham',\n",
              " 'Paul',\n",
              " 'Fay',\n",
              " 'Pseudolus',\n",
              " 'Ash',\n",
              " 'Cameron',\n",
              " 'Deckard',\n",
              " 'Bart',\n",
              " 'Jeffrey',\n",
              " 'Deckard',\n",
              " 'Barry',\n",
              " 'Buffy']"
            ]
          },
          "metadata": {},
          "execution_count": 24
        }
      ]
    },
    {
      "cell_type": "markdown",
      "metadata": {
        "id": "3D8wEZTKOCFq"
      },
      "source": [
        "### Gender identification using coreference resolution and Gender classifier"
      ]
    },
    {
      "cell_type": "code",
      "metadata": {
        "id": "g4l_j8BcnDQl"
      },
      "source": [
        "from allennlp.predictors.predictor import Predictor\n",
        "model_url = 'https://storage.googleapis.com/allennlp-public-models/coref-spanbert-large-2021.03.10.tar.gz'\n",
        "predictor = Predictor.from_path(model_url)"
      ],
      "execution_count": null,
      "outputs": []
    },
    {
      "cell_type": "code",
      "metadata": {
        "colab": {
          "base_uri": "https://localhost:8080/"
        },
        "id": "D7e8F1gaq9CJ",
        "outputId": "fa84f3a0-dfc6-47bc-a12e-60c77179ec69"
      },
      "source": [
        "for index, protagonist in enumerate(protagonists):\n",
        "  pred = predictor.predict(\n",
        "      document=stories[index]\n",
        "  )\n",
        "  clusters = pred['clusters']\n",
        "  document = pred['document']\n",
        "\n",
        "  n = 0\n",
        "  doc = {}\n",
        "  for obj in document:\n",
        "      doc.update({n:  obj})\n",
        "      n = n+1\n",
        "# captures all the coreferenc clusters of a particular noun\n",
        "  clus_all = []\n",
        "  cluster = []\n",
        "  clus_one = {}\n",
        "  for i in range(0, len(clusters)):\n",
        "      one_cl = clusters[i]\n",
        "      for count in range(0, len(one_cl)):\n",
        "          obj = one_cl[count]\n",
        "          for num in range((obj[0]), (obj[1]+1)):\n",
        "              for n in doc:\n",
        "                  if num == n:\n",
        "                      cluster.append(doc[n])\n",
        "      clus_all.append(cluster)\n",
        "      cluster = []\n",
        "  # print(clus_all)  # And finally, this shows all coreferences\n",
        "\n",
        "\n",
        "  gender = \"na\"\n",
        "\n",
        "\n",
        "  for cluster in clus_all:\n",
        "    if protagonist in cluster:\n",
        "      cluster_lower = [word.lower() for word in cluster]\n",
        "      if \"she\" in cluster_lower or \"her\" in cluster_lower or \"hers\" in cluster_lower:\n",
        "        gender = \"female\"\n",
        "      if \"he\" in cluster_lower or \"him\" in cluster_lower or \"his\" in cluster_lower:\n",
        "        gender = \"male\"\n",
        "  \n",
        "  if gender == \"na\":\n",
        "    gender = classifier.classify(gender_features(protagonist))\n",
        "  \n",
        "  print(\"gender of protagonist \" + protagonist + \" of the story \" + titles[index] + \" is \" + gender)\n",
        "\n",
        "\n"
      ],
      "execution_count": 26,
      "outputs": [
        {
          "output_type": "stream",
          "name": "stdout",
          "text": [
            "gender of protagonist Napoleon of the story Animal Farm is male\n",
            "gender of protagonist Alex of the story A Clockwork Orange (novel) is male\n",
            "gender of protagonist Rieux of the story The Plague is male\n",
            "gender of protagonist Artemis of the story Actaeon is female\n",
            "gender of protagonist Pham of the story A Fire Upon the Deep is male\n",
            "gender of protagonist Paul of the story All Quiet on the Western Front is male\n",
            "gender of protagonist Fay of the story Anyone Can Whistle is female\n",
            "gender of protagonist Pseudolus of the story A Funny Thing Happened on the Way to the Forum is male\n",
            "gender of protagonist Ash of the story Army of Darkness is male\n",
            "gender of protagonist Cameron of the story The Birth of a Nation is male\n",
            "gender of protagonist Deckard of the story Blade Runner is male\n",
            "gender of protagonist Bart of the story Blazing Saddles is male\n",
            "gender of protagonist Jeffrey of the story Blue Velvet (film) is male\n",
            "gender of protagonist Deckard of the story Blade Runner 2: The Edge of Human is male\n",
            "gender of protagonist Barry of the story Barry Lyndon is male\n",
            "gender of protagonist Buffy of the story Buffy the Vampire Slayer (film) is female\n"
          ]
        }
      ]
    },
    {
      "cell_type": "markdown",
      "metadata": {
        "id": "cpAoKgGhIN4P"
      },
      "source": [
        "#Improvements\n",
        "\n",
        "1. In some case antagonist might have higest frequency. A way to elminate this would be to calculate average sentiment of the sentences containing the top candidates for protagonists and selecting those with a net positive sentiment.\n",
        "2. The case of multiple protagonists in a story could be figured out by identifying the distribution of the occurences of the characters. If the distribution seems to be even, then there is a possibility of multiple or no protagonists. \n",
        "3. Creation of an external ground truth can be achieved by utilising search engine APIs, by converting the title to a question (for eg. \"Who is the protagonist of Buffy the Vampire Slayer?\") and then extracting the answer from the search engine results. In the case that search engine querying is expensive, the open source movie database TMDB can be used to capture the protagonist as well as their gender. \n"
      ]
    },
    {
      "cell_type": "code",
      "metadata": {
        "id": "7Y6XdykFSCpS"
      },
      "source": [
        ""
      ],
      "execution_count": null,
      "outputs": []
    }
  ]
}